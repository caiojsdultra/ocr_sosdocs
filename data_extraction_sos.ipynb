{
 "cells": [
  {
   "cell_type": "code",
   "execution_count": 2,
   "metadata": {},
   "outputs": [],
   "source": [
    "\n",
    "import os\n",
    "import re\n",
    "import pandas as pd\n",
    "import numpy as np\n",
    "#!pip install openpyxl\n",
    "import openpyxl"
   ]
  },
  {
   "cell_type": "code",
   "execution_count": 3,
   "metadata": {},
   "outputs": [
    {
     "name": "stdout",
     "output_type": "stream",
     "text": [
      "Empty DataFrame\n",
      "Columns: [LOCAL, CDV, ANO, DATA, DOC]\n",
      "Index: []\n"
     ]
    }
   ],
   "source": [
    "path = r'/Users/apple/Desktop/Machine Learning Projects/sosdocs_meta_ext/TXT'\n",
    "\n",
    "df = pd.DataFrame(columns = ['LOCAL', 'CDV', 'ANO', 'DATA', 'DOC'])\n",
    "print(df)"
   ]
  },
  {
   "cell_type": "code",
   "execution_count": 4,
   "metadata": {},
   "outputs": [
    {
     "name": "stdout",
     "output_type": "stream",
     "text": [
      "Appending data:  ASU 0001 2007 FC 22/11/2022 /Users/apple/Desktop/Machine Learning Projects/sosdocs_meta_ext/TXT/ASU00012007.txt\n",
      "\n",
      "Appending data:  ASU 0001 2013 FC 22/11/2022 /Users/apple/Desktop/Machine Learning Projects/sosdocs_meta_ext/TXT/ASU00012013.txt\n",
      "\n",
      "Appending data:  CDE 0001 2007 FC 22/11/2022 /Users/apple/Desktop/Machine Learning Projects/sosdocs_meta_ext/TXT/CDE00012007.txt\n",
      "\n",
      "Appending data:  CT  0001 2013 FC 22/11/2022 /Users/apple/Desktop/Machine Learning Projects/sosdocs_meta_ext/TXT/CDE00012013.txt\n",
      "\n",
      "Appending data:  FI  0001 2013 DT 22/11/2022 /Users/apple/Desktop/Machine Learning Projects/sosdocs_meta_ext/TXT/FI00012013.txt\n",
      "\n",
      "Appending data:  FI  0001 2007 DT 22/11/2022 /Users/apple/Desktop/Machine Learning Projects/sosdocs_meta_ext/TXT/FI00012007.txt\n",
      "\n",
      "Appending data:  CT  0001 2007 DT 22/11/2022 /Users/apple/Desktop/Machine Learning Projects/sosdocs_meta_ext/TXT/CT00012007.txt\n",
      "\n",
      "Appending data:  CT  0001 2013 DT 22/11/2022 /Users/apple/Desktop/Machine Learning Projects/sosdocs_meta_ext/TXT/CT00012013.txt\n",
      "\n",
      "Appending data:  CT  0001 2009 DT 22/11/2022 /Users/apple/Desktop/Machine Learning Projects/sosdocs_meta_ext/TXT/CT00012009.txt\n",
      "\n",
      "Appending data:  FI  0001 2009 DT 22/11/2022 /Users/apple/Desktop/Machine Learning Projects/sosdocs_meta_ext/TXT/FI00012009.txt\n",
      "\n",
      "Appending data:  CDE 0001 2009 FC 22/11/2022 /Users/apple/Desktop/Machine Learning Projects/sosdocs_meta_ext/TXT/CDE00012009.txt\n",
      "\n",
      "Appending data:  ASU 0001 2009 FC 22/11/2022 /Users/apple/Desktop/Machine Learning Projects/sosdocs_meta_ext/TXT/ASU00012009.txt\n",
      "\n"
     ]
    },
    {
     "name": "stderr",
     "output_type": "stream",
     "text": [
      "/var/folders/hd/22h9q48x5qzflrf1c1qnflxr0000gn/T/ipykernel_1738/3228958707.py:17: FutureWarning: The frame.append method is deprecated and will be removed from pandas in a future version. Use pandas.concat instead.\n",
      "  df = df.append({'LOCAL' : local, 'CDV' : cdv, 'ANO' : ano, 'DATA': data_final.replace(data_final[0:3], ''), 'DOC': path_concat},\n",
      "/var/folders/hd/22h9q48x5qzflrf1c1qnflxr0000gn/T/ipykernel_1738/3228958707.py:17: FutureWarning: The frame.append method is deprecated and will be removed from pandas in a future version. Use pandas.concat instead.\n",
      "  df = df.append({'LOCAL' : local, 'CDV' : cdv, 'ANO' : ano, 'DATA': data_final.replace(data_final[0:3], ''), 'DOC': path_concat},\n",
      "/var/folders/hd/22h9q48x5qzflrf1c1qnflxr0000gn/T/ipykernel_1738/3228958707.py:17: FutureWarning: The frame.append method is deprecated and will be removed from pandas in a future version. Use pandas.concat instead.\n",
      "  df = df.append({'LOCAL' : local, 'CDV' : cdv, 'ANO' : ano, 'DATA': data_final.replace(data_final[0:3], ''), 'DOC': path_concat},\n",
      "/var/folders/hd/22h9q48x5qzflrf1c1qnflxr0000gn/T/ipykernel_1738/3228958707.py:17: FutureWarning: The frame.append method is deprecated and will be removed from pandas in a future version. Use pandas.concat instead.\n",
      "  df = df.append({'LOCAL' : local, 'CDV' : cdv, 'ANO' : ano, 'DATA': data_final.replace(data_final[0:3], ''), 'DOC': path_concat},\n",
      "/var/folders/hd/22h9q48x5qzflrf1c1qnflxr0000gn/T/ipykernel_1738/3228958707.py:17: FutureWarning: The frame.append method is deprecated and will be removed from pandas in a future version. Use pandas.concat instead.\n",
      "  df = df.append({'LOCAL' : local, 'CDV' : cdv, 'ANO' : ano, 'DATA': data_final.replace(data_final[0:3], ''), 'DOC': path_concat},\n",
      "/var/folders/hd/22h9q48x5qzflrf1c1qnflxr0000gn/T/ipykernel_1738/3228958707.py:17: FutureWarning: The frame.append method is deprecated and will be removed from pandas in a future version. Use pandas.concat instead.\n",
      "  df = df.append({'LOCAL' : local, 'CDV' : cdv, 'ANO' : ano, 'DATA': data_final.replace(data_final[0:3], ''), 'DOC': path_concat},\n",
      "/var/folders/hd/22h9q48x5qzflrf1c1qnflxr0000gn/T/ipykernel_1738/3228958707.py:17: FutureWarning: The frame.append method is deprecated and will be removed from pandas in a future version. Use pandas.concat instead.\n",
      "  df = df.append({'LOCAL' : local, 'CDV' : cdv, 'ANO' : ano, 'DATA': data_final.replace(data_final[0:3], ''), 'DOC': path_concat},\n",
      "/var/folders/hd/22h9q48x5qzflrf1c1qnflxr0000gn/T/ipykernel_1738/3228958707.py:17: FutureWarning: The frame.append method is deprecated and will be removed from pandas in a future version. Use pandas.concat instead.\n",
      "  df = df.append({'LOCAL' : local, 'CDV' : cdv, 'ANO' : ano, 'DATA': data_final.replace(data_final[0:3], ''), 'DOC': path_concat},\n",
      "/var/folders/hd/22h9q48x5qzflrf1c1qnflxr0000gn/T/ipykernel_1738/3228958707.py:17: FutureWarning: The frame.append method is deprecated and will be removed from pandas in a future version. Use pandas.concat instead.\n",
      "  df = df.append({'LOCAL' : local, 'CDV' : cdv, 'ANO' : ano, 'DATA': data_final.replace(data_final[0:3], ''), 'DOC': path_concat},\n",
      "/var/folders/hd/22h9q48x5qzflrf1c1qnflxr0000gn/T/ipykernel_1738/3228958707.py:17: FutureWarning: The frame.append method is deprecated and will be removed from pandas in a future version. Use pandas.concat instead.\n",
      "  df = df.append({'LOCAL' : local, 'CDV' : cdv, 'ANO' : ano, 'DATA': data_final.replace(data_final[0:3], ''), 'DOC': path_concat},\n",
      "/var/folders/hd/22h9q48x5qzflrf1c1qnflxr0000gn/T/ipykernel_1738/3228958707.py:17: FutureWarning: The frame.append method is deprecated and will be removed from pandas in a future version. Use pandas.concat instead.\n",
      "  df = df.append({'LOCAL' : local, 'CDV' : cdv, 'ANO' : ano, 'DATA': data_final.replace(data_final[0:3], ''), 'DOC': path_concat},\n",
      "/var/folders/hd/22h9q48x5qzflrf1c1qnflxr0000gn/T/ipykernel_1738/3228958707.py:17: FutureWarning: The frame.append method is deprecated and will be removed from pandas in a future version. Use pandas.concat instead.\n",
      "  df = df.append({'LOCAL' : local, 'CDV' : cdv, 'ANO' : ano, 'DATA': data_final.replace(data_final[0:3], ''), 'DOC': path_concat},\n"
     ]
    }
   ],
   "source": [
    "for file in os.listdir(path):\n",
    "    path_concat = path + '/' + file\n",
    "    #print(path_concat)\n",
    "    f = open(path_concat, \"r\")\n",
    "    doc_read = f.read()\n",
    "    x = re.search(r\"\\b[A-Z]{2}.\\/\\d{4}\\/\\d{4}\", doc_read)\n",
    "    data_y = re.search(r\"\\b[A-Z]{2}.\\d{2}.\\d{2}.\\d{4}\", doc_read)\n",
    "    doc_data = x.group()\n",
    "    data_final = data_y.group()\n",
    "    \n",
    "    split_doc_data = doc_data.split('/')\n",
    "    \n",
    "    local = split_doc_data[0]\n",
    "    cdv = split_doc_data[1]\n",
    "    ano = split_doc_data[2]\n",
    "    print('Appending data: ', local, cdv, ano , data_final, path_concat)\n",
    "    df = df.append({'LOCAL' : local, 'CDV' : cdv, 'ANO' : ano, 'DATA': data_final.replace(data_final[0:3], ''), 'DOC': path_concat},\n",
    "        ignore_index = True)\n",
    "    \n",
    "    print(f.read())"
   ]
  },
  {
   "cell_type": "code",
   "execution_count": 5,
   "metadata": {},
   "outputs": [
    {
     "data": {
      "text/plain": [
       "0     /Users/apple/Desktop/Machine Learning Projects...\n",
       "1     /Users/apple/Desktop/Machine Learning Projects...\n",
       "2     /Users/apple/Desktop/Machine Learning Projects...\n",
       "3     /Users/apple/Desktop/Machine Learning Projects...\n",
       "4     /Users/apple/Desktop/Machine Learning Projects...\n",
       "5     /Users/apple/Desktop/Machine Learning Projects...\n",
       "6     /Users/apple/Desktop/Machine Learning Projects...\n",
       "7     /Users/apple/Desktop/Machine Learning Projects...\n",
       "8     /Users/apple/Desktop/Machine Learning Projects...\n",
       "9     /Users/apple/Desktop/Machine Learning Projects...\n",
       "10    /Users/apple/Desktop/Machine Learning Projects...\n",
       "11    /Users/apple/Desktop/Machine Learning Projects...\n",
       "Name: DOC, dtype: object"
      ]
     },
     "execution_count": 5,
     "metadata": {},
     "output_type": "execute_result"
    }
   ],
   "source": [
    "df['DOC']"
   ]
  },
  {
   "cell_type": "code",
   "execution_count": 6,
   "metadata": {},
   "outputs": [],
   "source": [
    "df.to_excel('sosdocs_cdv.xlsx')"
   ]
  },
  {
   "cell_type": "code",
   "execution_count": null,
   "metadata": {},
   "outputs": [],
   "source": []
  }
 ],
 "metadata": {
  "kernelspec": {
   "display_name": "Python 3.10.8 64-bit",
   "language": "python",
   "name": "python3"
  },
  "language_info": {
   "codemirror_mode": {
    "name": "ipython",
    "version": 3
   },
   "file_extension": ".py",
   "mimetype": "text/x-python",
   "name": "python",
   "nbconvert_exporter": "python",
   "pygments_lexer": "ipython3",
   "version": "3.10.8"
  },
  "orig_nbformat": 4,
  "vscode": {
   "interpreter": {
    "hash": "b0fa6594d8f4cbf19f97940f81e996739fb7646882a419484c72d19e05852a7e"
   }
  }
 },
 "nbformat": 4,
 "nbformat_minor": 2
}
